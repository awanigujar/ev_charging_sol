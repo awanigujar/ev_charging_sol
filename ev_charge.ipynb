{
 "cells": [
  {
   "cell_type": "code",
   "execution_count": 1,
   "id": "9d550d6e",
   "metadata": {},
   "outputs": [],
   "source": [
    "import pandas as pd\n",
    "import numpy as np\n",
    "import seaborn as sns\n",
    "import warnings\n",
    "warnings.filterwarnings(\"ignore\")"
   ]
  },
  {
   "cell_type": "markdown",
   "id": "0a972d50",
   "metadata": {},
   "source": [
    "#### Brief overview and potential insights into the data"
   ]
  },
  {
   "cell_type": "code",
   "execution_count": 2,
   "id": "6f0e1605",
   "metadata": {},
   "outputs": [],
   "source": [
    "#import source data\n",
    "data_file = pd.read_excel('Data_Science_2022.xlsx', sheet_name=\"rawdata\")"
   ]
  },
  {
   "cell_type": "code",
   "execution_count": 3,
   "id": "77058c4e",
   "metadata": {},
   "outputs": [
    {
     "data": {
      "text/html": [
       "<div>\n",
       "<style scoped>\n",
       "    .dataframe tbody tr th:only-of-type {\n",
       "        vertical-align: middle;\n",
       "    }\n",
       "\n",
       "    .dataframe tbody tr th {\n",
       "        vertical-align: top;\n",
       "    }\n",
       "\n",
       "    .dataframe thead th {\n",
       "        text-align: right;\n",
       "    }\n",
       "</style>\n",
       "<table border=\"1\" class=\"dataframe\">\n",
       "  <thead>\n",
       "    <tr style=\"text-align: right;\">\n",
       "      <th></th>\n",
       "      <th>charge_time</th>\n",
       "      <th>country_code</th>\n",
       "      <th>customer_id</th>\n",
       "      <th>contract_id</th>\n",
       "      <th>customer_type</th>\n",
       "      <th>session_id</th>\n",
       "      <th>session_duration</th>\n",
       "      <th>power_usage</th>\n",
       "      <th>charging_phase</th>\n",
       "    </tr>\n",
       "  </thead>\n",
       "  <tbody>\n",
       "    <tr>\n",
       "      <th>0</th>\n",
       "      <td>2020-01-01 02:51:15</td>\n",
       "      <td>CH</td>\n",
       "      <td>70b1cb95819ae6269ceb939a4ebd77ce</td>\n",
       "      <td>145f0ecdb0d7d03e3eeed935c40ec50a</td>\n",
       "      <td>PRIVATE</td>\n",
       "      <td>691a655714f9e1d109b593df9ed43b17</td>\n",
       "      <td>35.0</td>\n",
       "      <td>25.381</td>\n",
       "      <td>AC</td>\n",
       "    </tr>\n",
       "    <tr>\n",
       "      <th>1</th>\n",
       "      <td>2020-01-01 10:30:05</td>\n",
       "      <td>CH</td>\n",
       "      <td>580d8cf08402b9900c49b50f975cc625</td>\n",
       "      <td>c90bbf876bbfe1b6bb928b87d08ad890</td>\n",
       "      <td>PRIVATE</td>\n",
       "      <td>14b426dbc3de92b73b741b52f46d9d84</td>\n",
       "      <td>271.0</td>\n",
       "      <td>49.817</td>\n",
       "      <td>AC</td>\n",
       "    </tr>\n",
       "    <tr>\n",
       "      <th>2</th>\n",
       "      <td>2020-01-01 10:52:25</td>\n",
       "      <td>CH</td>\n",
       "      <td>0721193038205f8bda87e34795d1e061</td>\n",
       "      <td>b228bd0ec53ca1a20c7bbf453e6f84d9</td>\n",
       "      <td>BUSINESS</td>\n",
       "      <td>1a64707007b2b85b227d9a3646f47361</td>\n",
       "      <td>160.0</td>\n",
       "      <td>1.720</td>\n",
       "      <td>AC</td>\n",
       "    </tr>\n",
       "    <tr>\n",
       "      <th>3</th>\n",
       "      <td>2020-01-01 11:02:49</td>\n",
       "      <td>CH</td>\n",
       "      <td>ff654eaccb475061f833ecfa4f5a8ce7</td>\n",
       "      <td>0b968b544dbb830be2ac06648687a898</td>\n",
       "      <td>PRIVATE</td>\n",
       "      <td>310b11a07b3a57469537f4f78c902018</td>\n",
       "      <td>31.0</td>\n",
       "      <td>12.802</td>\n",
       "      <td>AC</td>\n",
       "    </tr>\n",
       "    <tr>\n",
       "      <th>4</th>\n",
       "      <td>2020-01-01 11:06:39</td>\n",
       "      <td>CH</td>\n",
       "      <td>7276dba2a167814c714e905ac7f14c34</td>\n",
       "      <td>e616454012ab204c1c6473d94baa2311</td>\n",
       "      <td>PRIVATE</td>\n",
       "      <td>a9037ebc508891a653219d19b310ef4f</td>\n",
       "      <td>33.0</td>\n",
       "      <td>1.763</td>\n",
       "      <td>AC</td>\n",
       "    </tr>\n",
       "  </tbody>\n",
       "</table>\n",
       "</div>"
      ],
      "text/plain": [
       "          charge_time country_code                       customer_id  \\\n",
       "0 2020-01-01 02:51:15           CH  70b1cb95819ae6269ceb939a4ebd77ce   \n",
       "1 2020-01-01 10:30:05           CH  580d8cf08402b9900c49b50f975cc625   \n",
       "2 2020-01-01 10:52:25           CH  0721193038205f8bda87e34795d1e061   \n",
       "3 2020-01-01 11:02:49           CH  ff654eaccb475061f833ecfa4f5a8ce7   \n",
       "4 2020-01-01 11:06:39           CH  7276dba2a167814c714e905ac7f14c34   \n",
       "\n",
       "                        contract_id customer_type  \\\n",
       "0  145f0ecdb0d7d03e3eeed935c40ec50a       PRIVATE   \n",
       "1  c90bbf876bbfe1b6bb928b87d08ad890       PRIVATE   \n",
       "2  b228bd0ec53ca1a20c7bbf453e6f84d9      BUSINESS   \n",
       "3  0b968b544dbb830be2ac06648687a898       PRIVATE   \n",
       "4  e616454012ab204c1c6473d94baa2311       PRIVATE   \n",
       "\n",
       "                         session_id  session_duration  power_usage  \\\n",
       "0  691a655714f9e1d109b593df9ed43b17              35.0       25.381   \n",
       "1  14b426dbc3de92b73b741b52f46d9d84             271.0       49.817   \n",
       "2  1a64707007b2b85b227d9a3646f47361             160.0        1.720   \n",
       "3  310b11a07b3a57469537f4f78c902018              31.0       12.802   \n",
       "4  a9037ebc508891a653219d19b310ef4f              33.0        1.763   \n",
       "\n",
       "  charging_phase  \n",
       "0             AC  \n",
       "1             AC  \n",
       "2             AC  \n",
       "3             AC  \n",
       "4             AC  "
      ]
     },
     "execution_count": 3,
     "metadata": {},
     "output_type": "execute_result"
    }
   ],
   "source": [
    "data_file.head()"
   ]
  },
  {
   "cell_type": "code",
   "execution_count": 4,
   "id": "807b7d4a",
   "metadata": {},
   "outputs": [
    {
     "name": "stdout",
     "output_type": "stream",
     "text": [
      "<class 'pandas.core.frame.DataFrame'>\n",
      "Int64Index: 7367 entries, 0 to 7648\n",
      "Data columns (total 9 columns):\n",
      " #   Column            Non-Null Count  Dtype         \n",
      "---  ------            --------------  -----         \n",
      " 0   charge_time       7367 non-null   datetime64[ns]\n",
      " 1   country_code      7367 non-null   object        \n",
      " 2   customer_id       7367 non-null   object        \n",
      " 3   contract_id       7367 non-null   object        \n",
      " 4   customer_type     7367 non-null   object        \n",
      " 5   session_id        7367 non-null   object        \n",
      " 6   session_duration  7367 non-null   float64       \n",
      " 7   power_usage       7367 non-null   float64       \n",
      " 8   charging_phase    7367 non-null   object        \n",
      "dtypes: datetime64[ns](1), float64(2), object(6)\n",
      "memory usage: 575.5+ KB\n"
     ]
    }
   ],
   "source": [
    "#extract data with Country ISO as CH (As per assumption 2)\n",
    "data_ch = data_file[data_file['country_code'] == 'CH']\n",
    "data_ch.info()"
   ]
  },
  {
   "cell_type": "code",
   "execution_count": 5,
   "id": "a42ac62e",
   "metadata": {},
   "outputs": [
    {
     "data": {
      "text/html": [
       "<div>\n",
       "<style scoped>\n",
       "    .dataframe tbody tr th:only-of-type {\n",
       "        vertical-align: middle;\n",
       "    }\n",
       "\n",
       "    .dataframe tbody tr th {\n",
       "        vertical-align: top;\n",
       "    }\n",
       "\n",
       "    .dataframe thead th {\n",
       "        text-align: right;\n",
       "    }\n",
       "</style>\n",
       "<table border=\"1\" class=\"dataframe\">\n",
       "  <thead>\n",
       "    <tr style=\"text-align: right;\">\n",
       "      <th></th>\n",
       "      <th>session_duration</th>\n",
       "      <th>power_usage</th>\n",
       "    </tr>\n",
       "  </thead>\n",
       "  <tbody>\n",
       "    <tr>\n",
       "      <th>count</th>\n",
       "      <td>7367.000000</td>\n",
       "      <td>7367.000000</td>\n",
       "    </tr>\n",
       "    <tr>\n",
       "      <th>mean</th>\n",
       "      <td>121.870047</td>\n",
       "      <td>9.641399</td>\n",
       "    </tr>\n",
       "    <tr>\n",
       "      <th>std</th>\n",
       "      <td>443.695816</td>\n",
       "      <td>10.196125</td>\n",
       "    </tr>\n",
       "    <tr>\n",
       "      <th>min</th>\n",
       "      <td>0.000000</td>\n",
       "      <td>0.000000</td>\n",
       "    </tr>\n",
       "    <tr>\n",
       "      <th>25%</th>\n",
       "      <td>19.000000</td>\n",
       "      <td>1.984000</td>\n",
       "    </tr>\n",
       "    <tr>\n",
       "      <th>50%</th>\n",
       "      <td>46.000000</td>\n",
       "      <td>6.794000</td>\n",
       "    </tr>\n",
       "    <tr>\n",
       "      <th>75%</th>\n",
       "      <td>128.500000</td>\n",
       "      <td>13.568500</td>\n",
       "    </tr>\n",
       "    <tr>\n",
       "      <th>max</th>\n",
       "      <td>17452.000000</td>\n",
       "      <td>101.257000</td>\n",
       "    </tr>\n",
       "  </tbody>\n",
       "</table>\n",
       "</div>"
      ],
      "text/plain": [
       "       session_duration  power_usage\n",
       "count       7367.000000  7367.000000\n",
       "mean         121.870047     9.641399\n",
       "std          443.695816    10.196125\n",
       "min            0.000000     0.000000\n",
       "25%           19.000000     1.984000\n",
       "50%           46.000000     6.794000\n",
       "75%          128.500000    13.568500\n",
       "max        17452.000000   101.257000"
      ]
     },
     "execution_count": 5,
     "metadata": {},
     "output_type": "execute_result"
    }
   ],
   "source": [
    "#statistical summary of CH data\n",
    "data_ch.describe()"
   ]
  },
  {
   "cell_type": "code",
   "execution_count": 6,
   "id": "e2a5a910",
   "metadata": {},
   "outputs": [
    {
     "data": {
      "text/plain": [
       "6.794"
      ]
     },
     "execution_count": 6,
     "metadata": {},
     "output_type": "execute_result"
    }
   ],
   "source": [
    "# As mean and median doesnot coinside it is not normally distributed\n",
    "data_ch['power_usage'].median()"
   ]
  },
  {
   "cell_type": "code",
   "execution_count": 7,
   "id": "7a7c4624",
   "metadata": {},
   "outputs": [
    {
     "data": {
      "text/html": [
       "<div>\n",
       "<style scoped>\n",
       "    .dataframe tbody tr th:only-of-type {\n",
       "        vertical-align: middle;\n",
       "    }\n",
       "\n",
       "    .dataframe tbody tr th {\n",
       "        vertical-align: top;\n",
       "    }\n",
       "\n",
       "    .dataframe thead th {\n",
       "        text-align: right;\n",
       "    }\n",
       "</style>\n",
       "<table border=\"1\" class=\"dataframe\">\n",
       "  <thead>\n",
       "    <tr style=\"text-align: right;\">\n",
       "      <th></th>\n",
       "      <th>charge_time</th>\n",
       "      <th>country_code</th>\n",
       "      <th>customer_id</th>\n",
       "      <th>contract_id</th>\n",
       "      <th>customer_type</th>\n",
       "      <th>session_id</th>\n",
       "      <th>session_duration</th>\n",
       "      <th>power_usage</th>\n",
       "      <th>charging_phase</th>\n",
       "      <th>charge_day</th>\n",
       "    </tr>\n",
       "  </thead>\n",
       "  <tbody>\n",
       "    <tr>\n",
       "      <th>0</th>\n",
       "      <td>2020-01-01 02:51:15</td>\n",
       "      <td>CH</td>\n",
       "      <td>70b1cb95819ae6269ceb939a4ebd77ce</td>\n",
       "      <td>145f0ecdb0d7d03e3eeed935c40ec50a</td>\n",
       "      <td>PRIVATE</td>\n",
       "      <td>691a655714f9e1d109b593df9ed43b17</td>\n",
       "      <td>35.0</td>\n",
       "      <td>25.381</td>\n",
       "      <td>AC</td>\n",
       "      <td>Wednesday</td>\n",
       "    </tr>\n",
       "    <tr>\n",
       "      <th>1</th>\n",
       "      <td>2020-01-01 10:30:05</td>\n",
       "      <td>CH</td>\n",
       "      <td>580d8cf08402b9900c49b50f975cc625</td>\n",
       "      <td>c90bbf876bbfe1b6bb928b87d08ad890</td>\n",
       "      <td>PRIVATE</td>\n",
       "      <td>14b426dbc3de92b73b741b52f46d9d84</td>\n",
       "      <td>271.0</td>\n",
       "      <td>49.817</td>\n",
       "      <td>AC</td>\n",
       "      <td>Wednesday</td>\n",
       "    </tr>\n",
       "    <tr>\n",
       "      <th>2</th>\n",
       "      <td>2020-01-01 10:52:25</td>\n",
       "      <td>CH</td>\n",
       "      <td>0721193038205f8bda87e34795d1e061</td>\n",
       "      <td>b228bd0ec53ca1a20c7bbf453e6f84d9</td>\n",
       "      <td>BUSINESS</td>\n",
       "      <td>1a64707007b2b85b227d9a3646f47361</td>\n",
       "      <td>160.0</td>\n",
       "      <td>1.720</td>\n",
       "      <td>AC</td>\n",
       "      <td>Wednesday</td>\n",
       "    </tr>\n",
       "    <tr>\n",
       "      <th>3</th>\n",
       "      <td>2020-01-01 11:02:49</td>\n",
       "      <td>CH</td>\n",
       "      <td>ff654eaccb475061f833ecfa4f5a8ce7</td>\n",
       "      <td>0b968b544dbb830be2ac06648687a898</td>\n",
       "      <td>PRIVATE</td>\n",
       "      <td>310b11a07b3a57469537f4f78c902018</td>\n",
       "      <td>31.0</td>\n",
       "      <td>12.802</td>\n",
       "      <td>AC</td>\n",
       "      <td>Wednesday</td>\n",
       "    </tr>\n",
       "    <tr>\n",
       "      <th>4</th>\n",
       "      <td>2020-01-01 11:06:39</td>\n",
       "      <td>CH</td>\n",
       "      <td>7276dba2a167814c714e905ac7f14c34</td>\n",
       "      <td>e616454012ab204c1c6473d94baa2311</td>\n",
       "      <td>PRIVATE</td>\n",
       "      <td>a9037ebc508891a653219d19b310ef4f</td>\n",
       "      <td>33.0</td>\n",
       "      <td>1.763</td>\n",
       "      <td>AC</td>\n",
       "      <td>Wednesday</td>\n",
       "    </tr>\n",
       "  </tbody>\n",
       "</table>\n",
       "</div>"
      ],
      "text/plain": [
       "          charge_time country_code                       customer_id  \\\n",
       "0 2020-01-01 02:51:15           CH  70b1cb95819ae6269ceb939a4ebd77ce   \n",
       "1 2020-01-01 10:30:05           CH  580d8cf08402b9900c49b50f975cc625   \n",
       "2 2020-01-01 10:52:25           CH  0721193038205f8bda87e34795d1e061   \n",
       "3 2020-01-01 11:02:49           CH  ff654eaccb475061f833ecfa4f5a8ce7   \n",
       "4 2020-01-01 11:06:39           CH  7276dba2a167814c714e905ac7f14c34   \n",
       "\n",
       "                        contract_id customer_type  \\\n",
       "0  145f0ecdb0d7d03e3eeed935c40ec50a       PRIVATE   \n",
       "1  c90bbf876bbfe1b6bb928b87d08ad890       PRIVATE   \n",
       "2  b228bd0ec53ca1a20c7bbf453e6f84d9      BUSINESS   \n",
       "3  0b968b544dbb830be2ac06648687a898       PRIVATE   \n",
       "4  e616454012ab204c1c6473d94baa2311       PRIVATE   \n",
       "\n",
       "                         session_id  session_duration  power_usage  \\\n",
       "0  691a655714f9e1d109b593df9ed43b17              35.0       25.381   \n",
       "1  14b426dbc3de92b73b741b52f46d9d84             271.0       49.817   \n",
       "2  1a64707007b2b85b227d9a3646f47361             160.0        1.720   \n",
       "3  310b11a07b3a57469537f4f78c902018              31.0       12.802   \n",
       "4  a9037ebc508891a653219d19b310ef4f              33.0        1.763   \n",
       "\n",
       "  charging_phase charge_day  \n",
       "0             AC  Wednesday  \n",
       "1             AC  Wednesday  \n",
       "2             AC  Wednesday  \n",
       "3             AC  Wednesday  \n",
       "4             AC  Wednesday  "
      ]
     },
     "execution_count": 7,
     "metadata": {},
     "output_type": "execute_result"
    }
   ],
   "source": [
    "# adding day category to table for understanding which day has most customer visit\n",
    "data_ch['charge_day']=data_ch['charge_time'].dt.day_name()\n",
    "data_ch.head()"
   ]
  },
  {
   "cell_type": "markdown",
   "id": "a7732f2b",
   "metadata": {},
   "source": [
    "#####  1. key Observation from above : minimum session time and power usage is 0, which can be data issue or customer have not received the recharge\n",
    "##### 2.  standard deviation show there is large variance in the data. \n",
    "##### Lets sample the data with startification on charging_phase(HPC, AC, DC)"
   ]
  },
  {
   "cell_type": "code",
   "execution_count": 8,
   "id": "3c64260f",
   "metadata": {},
   "outputs": [
    {
     "data": {
      "text/plain": [
       "(       session_duration  power_usage\n",
       " count       5658.000000  5658.000000\n",
       " mean         146.730258     7.929058\n",
       " std          501.225825     9.356700\n",
       " min            0.000000     0.000000\n",
       " 25%           23.000000     1.392500\n",
       " 50%           63.000000     5.000000\n",
       " 75%          163.000000    10.293250\n",
       " max        17452.000000   101.257000,\n",
       " 5.0)"
      ]
     },
     "execution_count": 8,
     "metadata": {},
     "output_type": "execute_result"
    }
   ],
   "source": [
    "# AC startification\n",
    "AC = data_ch[data_ch['charging_phase'] == 'AC' ] \n",
    "AC.describe(),AC['power_usage'].median()"
   ]
  },
  {
   "cell_type": "code",
   "execution_count": 9,
   "id": "eca411e4",
   "metadata": {},
   "outputs": [
    {
     "data": {
      "text/plain": [
       "(       session_duration  power_usage\n",
       " count       1550.000000  1550.000000\n",
       " mean          41.399892    15.315086\n",
       " std           94.283524    10.852263\n",
       " min            0.000000     0.000000\n",
       " 25%           15.000000     7.707500\n",
       " 50%           25.000000    13.599500\n",
       " 75%           44.000000    21.721000\n",
       " max         1776.000000    82.659000,\n",
       " 13.599499999999999)"
      ]
     },
     "execution_count": 9,
     "metadata": {},
     "output_type": "execute_result"
    }
   ],
   "source": [
    "# DC startification\n",
    "DC =data_ch[data_ch['charging_phase'] == 'DC' ]\n",
    "DC.describe(), DC['power_usage'].median()"
   ]
  },
  {
   "cell_type": "code",
   "execution_count": 10,
   "id": "0e225561",
   "metadata": {},
   "outputs": [
    {
     "data": {
      "text/plain": [
       "(       session_duration  power_usage\n",
       " count        159.000000   159.000000\n",
       " mean          21.679245    15.265367\n",
       " std           11.884636    10.242538\n",
       " min            0.000000     0.038000\n",
       " 25%           13.000000     8.391000\n",
       " 50%           20.000000    12.376000\n",
       " 75%           28.500000    20.454000\n",
       " max           67.000000    60.014000,\n",
       " 12.376)"
      ]
     },
     "execution_count": 10,
     "metadata": {},
     "output_type": "execute_result"
    }
   ],
   "source": [
    "# HPC startification\n",
    "HPC =data_ch[data_ch['charging_phase'] == 'HPC' ]\n",
    "HPC.describe(), HPC['power_usage'].median()"
   ]
  },
  {
   "cell_type": "code",
   "execution_count": 11,
   "id": "f5fa451b",
   "metadata": {},
   "outputs": [
    {
     "data": {
      "image/png": "[encoded data removed]",
      "text/plain": [
       "<Figure size 432x288 with 1 Axes>"
      ]
     },
     "metadata": {
      "needs_background": "light"
     },
     "output_type": "display_data"
    }
   ],
   "source": [
    "#overall distribution of power usage show it is left skewed. very minimal use post 40 KWh.\n",
    "#higher power usage is under 10 KWh approx.\n",
    "sns.distplot(data_ch['power_usage'],  rug=True, rug_kws={\"color\": \"g\"},\n",
    "                  kde_kws={\"color\": \"k\", \"lw\": 3, \"label\": \"KDE\"}, hist_kws={\"histtype\": \"step\", \"linewidth\": 3,\n",
    "                            \"alpha\": 1, \"color\": \"g\"});\n"
   ]
  },
  {
   "cell_type": "code",
   "execution_count": 12,
   "id": "80c6a0c0",
   "metadata": {},
   "outputs": [
    {
     "data": {
      "text/plain": [
       "<seaborn.axisgrid.FacetGrid at 0x23eef22dd90>"
      ]
     },
     "execution_count": 12,
     "metadata": {},
     "output_type": "execute_result"
    },
    {
     "data": {
      "image/png": "[encoded data removed]",
      "text/plain": [
       "<Figure size 447.125x360 with 1 Axes>"
      ]
     },
     "metadata": {
      "needs_background": "light"
     },
     "output_type": "display_data"
    }
   ],
   "source": [
    "#AC power usage is more as compare to AC\n",
    "sns.displot(data_ch, x=\"power_usage\", hue=\"charging_phase\", kde = False, multiple=\"stack\")"
   ]
  },
  {
   "cell_type": "code",
   "execution_count": 13,
   "id": "bddbd0a7",
   "metadata": {},
   "outputs": [
    {
     "data": {
      "text/plain": [
       "<seaborn.axisgrid.FacetGrid at 0x23eefcc06a0>"
      ]
     },
     "execution_count": 13,
     "metadata": {},
     "output_type": "execute_result"
    },
    {
     "data": {
      "image/png": "[encoded data removed]",
      "text/plain": [
       "<Figure size 447.125x360 with 1 Axes>"
      ]
     },
     "metadata": {
      "needs_background": "light"
     },
     "output_type": "display_data"
    }
   ],
   "source": [
    "sns.displot(data_ch, x=\"power_usage\", hue=\"charging_phase\", kind=\"kde\", multiple=\"stack\")"
   ]
  },
  {
   "cell_type": "code",
   "execution_count": 14,
   "id": "aa697ce6",
   "metadata": {},
   "outputs": [
    {
     "data": {
      "text/plain": [
       "f6e3c57839d8f5d1e52ed0b2c58105be    87\n",
       "e5984218cfd32f9a6c602f45b965d2ef    78\n",
       "02778864181102e24f3e4a6c808e7b7a    67\n",
       "f3ada80d5c4ee70142b17b8192b2958e    65\n",
       "b3d5c779237614a9cef5305b85a28273    64\n",
       "Name: customer_id, dtype: int64"
      ]
     },
     "execution_count": 14,
     "metadata": {},
     "output_type": "execute_result"
    }
   ],
   "source": [
    "#frequent customers\n",
    "data_ch[\"customer_id\"].value_counts().head(5)"
   ]
  },
  {
   "cell_type": "code",
   "execution_count": 15,
   "id": "24d2b14b",
   "metadata": {},
   "outputs": [
    {
     "data": {
      "text/plain": [
       "<AxesSubplot:ylabel='customer_id'>"
      ]
     },
     "execution_count": 15,
     "metadata": {},
     "output_type": "execute_result"
    },
    {
     "data": {
      "image/png": "[encoded data removed]",
      "text/plain": [
       "<Figure size 432x288 with 1 Axes>"
      ]
     },
     "metadata": {},
     "output_type": "display_data"
    }
   ],
   "source": [
    "#83% qre private customer\n",
    "data_ch[\"customer_type\"].value_counts()/len(data_ch.session_id)*100\n",
    "# Defining colors for the pie chart\n",
    "colors = ['pink', 'silver'] \n",
    "# Plotting the pie chart for above dataframe\n",
    "data_ch.groupby(['customer_type']).count().plot(\n",
    "    kind='pie', y=\"customer_id\", \n",
    "  autopct='%1.0f%%', colors=colors)"
   ]
  },
  {
   "cell_type": "code",
   "execution_count": 16,
   "id": "1923ba42",
   "metadata": {},
   "outputs": [
    {
     "data": {
      "text/plain": [
       "<AxesSubplot:ylabel='customer_id'>"
      ]
     },
     "execution_count": 16,
     "metadata": {},
     "output_type": "execute_result"
    },
    {
     "data": {
      "image/png": "[encoded data removed]",
      "text/plain": [
       "<Figure size 432x288 with 1 Axes>"
      ]
     },
     "metadata": {},
     "output_type": "display_data"
    }
   ],
   "source": [
    "#77% are AC user and only 2% customers are HPC users\n",
    "data_ch[\"charging_phase\"].value_counts()/len(data_ch.session_id)*100\n",
    "colors = ['pink', 'silver','steelblue'] \n",
    "# Plotting the pie chart for above dataframe\n",
    "data_ch.groupby(['charging_phase']).count().plot(\n",
    "    kind='pie', y=\"customer_id\", \n",
    "  autopct='%1.0f%%', colors=colors)"
   ]
  },
  {
   "cell_type": "code",
   "execution_count": 17,
   "id": "63286167",
   "metadata": {},
   "outputs": [
    {
     "data": {
      "text/plain": [
       "<seaborn.axisgrid.FacetGrid at 0x23ef0fe1910>"
      ]
     },
     "execution_count": 17,
     "metadata": {},
     "output_type": "execute_result"
    },
    {
     "data": {
      "image/png": "[encoded data removed]",
      "text/plain": [
       "<Figure size 447.125x360 with 1 Axes>"
      ]
     },
     "metadata": {
      "needs_background": "light"
     },
     "output_type": "display_data"
    }
   ],
   "source": [
    "#session duration is more for AC, DC take medium session duration and HPC has lowest session duration.\n",
    "sns.relplot(x=\"power_usage\", y=\"session_duration\", hue=\"charging_phase\", data=data_ch,kind=\"scatter\")"
   ]
  },
  {
   "cell_type": "code",
   "execution_count": 18,
   "id": "7e2a3659",
   "metadata": {},
   "outputs": [
    {
     "data": {
      "image/png": "[encoded data removed]",
      "text/plain": [
       "<Figure size 373.625x360 with 1 Axes>"
      ]
     },
     "metadata": {
      "needs_background": "light"
     },
     "output_type": "display_data"
    }
   ],
   "source": [
    "g = sns.catplot(x=\"charging_phase\", y=\"power_usage\", hue=\"customer_type\",\n",
    "                 data=data_ch,\n",
    "                height=5, aspect=.8)"
   ]
  },
  {
   "cell_type": "code",
   "execution_count": 19,
   "id": "d2b77300",
   "metadata": {},
   "outputs": [
    {
     "data": {
      "image/png": "[encoded data removed]",
      "text/plain": [
       "<Figure size 360x360 with 1 Axes>"
      ]
     },
     "metadata": {
      "needs_background": "light"
     },
     "output_type": "display_data"
    }
   ],
   "source": [
    "sns.catplot(x=\"customer_type\", y=\"power_usage\", data=data_ch);"
   ]
  },
  {
   "cell_type": "code",
   "execution_count": 20,
   "id": "66b37c00",
   "metadata": {},
   "outputs": [
    {
     "data": {
      "image/png": "[encoded data removed]",
      "text/plain": [
       "<Figure size 445.625x360 with 1 Axes>"
      ]
     },
     "metadata": {
      "needs_background": "light"
     },
     "output_type": "display_data"
    }
   ],
   "source": [
    "sns.catplot(x=\"charge_day\", y=\"session_duration\", kind=\"box\", hue = \"customer_type\", data=DC);"
   ]
  },
  {
   "cell_type": "code",
   "execution_count": 21,
   "id": "92312ec0",
   "metadata": {},
   "outputs": [
    {
     "data": {
      "image/png": "[encoded data removed]",
      "text/plain": [
       "<Figure size 445.625x360 with 1 Axes>"
      ]
     },
     "metadata": {
      "needs_background": "light"
     },
     "output_type": "display_data"
    }
   ],
   "source": [
    "sns.catplot(x=\"charge_day\", y=\"session_duration\", kind=\"box\", hue = \"customer_type\", data=AC);"
   ]
  },
  {
   "cell_type": "code",
   "execution_count": 22,
   "id": "74b46aeb",
   "metadata": {},
   "outputs": [
    {
     "data": {
      "image/png": "[encoded data removed]",
      "text/plain": [
       "<Figure size 445.625x360 with 1 Axes>"
      ]
     },
     "metadata": {
      "needs_background": "light"
     },
     "output_type": "display_data"
    }
   ],
   "source": [
    "sns.catplot(x=\"charge_day\", y=\"session_duration\", kind=\"box\", hue = \"customer_type\", data=HPC);"
   ]
  },
  {
   "cell_type": "markdown",
   "id": "fe22f477",
   "metadata": {},
   "source": [
    "#### The charging phase may be assigned incorrectly which results in incorrect analysis. What percentage has been allocated correctly and what the correct assignment should be."
   ]
  },
  {
   "cell_type": "code",
   "execution_count": 23,
   "id": "00b22aed",
   "metadata": {},
   "outputs": [
    {
     "data": {
      "text/plain": [
       "(14, 522, 0)"
      ]
     },
     "execution_count": 23,
     "metadata": {},
     "output_type": "execute_result"
    }
   ],
   "source": [
    "#Taking power level assumption into consideration. Below shows some incorrect tagging of charging_phase\n",
    "DC_inc = data_ch[(data_ch['charging_phase'] == 'DC') & (data_ch['power_usage'] >50)]\n",
    "DC_inc = DC_inc['session_id'].count()\n",
    "AC_inc = data_ch[(data_ch['charging_phase'] == 'AC') & (data_ch['power_usage'] >22)]\n",
    "AC_inc = AC_inc['session_id'].count()\n",
    "HPC_inc = data_ch[(data_ch['charging_phase'] == 'HPC') & (data_ch['power_usage'] >350)]\n",
    "HPC_inc = HPC_inc['session_id'].count()\n",
    "DC_inc,AC_inc,HPC_inc"
   ]
  },
  {
   "cell_type": "code",
   "execution_count": 24,
   "id": "02a856e8",
   "metadata": {},
   "outputs": [
    {
     "data": {
      "text/plain": [
       "7367"
      ]
     },
     "execution_count": 24,
     "metadata": {},
     "output_type": "execute_result"
    }
   ],
   "source": [
    "#count of CH data\n",
    "overall_count =data_ch['session_id'].count()\n",
    "overall_count"
   ]
  },
  {
   "cell_type": "code",
   "execution_count": 25,
   "id": "c0ad3148",
   "metadata": {},
   "outputs": [
    {
     "data": {
      "text/plain": [
       "(0.19003664992534275, 7.085652232930636, 0.0)"
      ]
     },
     "execution_count": 25,
     "metadata": {},
     "output_type": "execute_result"
    }
   ],
   "source": [
    "#incorrect assignment in percentage (eg : count of DC having power usage greater than 50/overall )\n",
    "Ip_DC = DC_inc/overall_count*100\n",
    "Ip_AC = AC_inc/overall_count*100\n",
    "Ip_HPC = HPC_inc/overall_count*100\n",
    "Ip_DC,Ip_AC,Ip_HPC\n"
   ]
  },
  {
   "cell_type": "code",
   "execution_count": 26,
   "id": "7170755d",
   "metadata": {},
   "outputs": [
    {
     "data": {
      "text/plain": [
       "(99.80996335007465, 92.91434776706936, 100.0)"
      ]
     },
     "execution_count": 26,
     "metadata": {},
     "output_type": "execute_result"
    }
   ],
   "source": [
    "#Correct assignment in percentage\n",
    "Cp_DC = 100 - Ip_DC\n",
    "Cp_AC = 100 - Ip_AC\n",
    "Cp_HPC = 100 - Ip_HPC\n",
    "Cp_DC,Cp_AC,Cp_HPC"
   ]
  },
  {
   "cell_type": "code",
   "execution_count": 27,
   "id": "ff9215e4",
   "metadata": {},
   "outputs": [
    {
     "data": {
      "text/plain": [
       "1261"
      ]
     },
     "execution_count": 27,
     "metadata": {},
     "output_type": "execute_result"
    }
   ],
   "source": [
    "#unique customers\n",
    "data_ch.customer_id.nunique()"
   ]
  },
  {
   "cell_type": "code",
   "execution_count": 28,
   "id": "d2fd9957",
   "metadata": {},
   "outputs": [
    {
     "data": {
      "text/plain": [
       "customer_id\n",
       "f6e3c57839d8f5d1e52ed0b2c58105be    87\n",
       "e5984218cfd32f9a6c602f45b965d2ef    78\n",
       "02778864181102e24f3e4a6c808e7b7a    67\n",
       "f3ada80d5c4ee70142b17b8192b2958e    65\n",
       "b3d5c779237614a9cef5305b85a28273    64\n",
       "Name: power_usage, dtype: int64"
      ]
     },
     "execution_count": 28,
     "metadata": {},
     "output_type": "execute_result"
    }
   ],
   "source": [
    "#top 5 customers who use charge station frequently\n",
    "data_ch.groupby(['customer_id'])['power_usage'].agg('count').nlargest(5)\n"
   ]
  },
  {
   "cell_type": "code",
   "execution_count": 29,
   "id": "ca7fdcd7",
   "metadata": {},
   "outputs": [
    {
     "data": {
      "text/plain": [
       "customer_id\n",
       "ef482ef1710fbb4ddd2502353696689c    1261.702\n",
       "f6e3c57839d8f5d1e52ed0b2c58105be    1097.761\n",
       "b11d57a6dd02023e6acdd5174baae917    1079.058\n",
       "2ffe5ae29bb6b60145835654b541b443     980.104\n",
       "f3ada80d5c4ee70142b17b8192b2958e     842.843\n",
       "Name: power_usage, dtype: float64"
      ]
     },
     "execution_count": 29,
     "metadata": {},
     "output_type": "execute_result"
    }
   ],
   "source": [
    "#top 5 customers who has maximum power_usage\n",
    "data_ch.groupby(['customer_id'])['power_usage'].agg('sum').nlargest(5)"
   ]
  },
  {
   "cell_type": "code",
   "execution_count": 30,
   "id": "69f781a1",
   "metadata": {},
   "outputs": [
    {
     "data": {
      "text/html": [
       "<div>\n",
       "<style scoped>\n",
       "    .dataframe tbody tr th:only-of-type {\n",
       "        vertical-align: middle;\n",
       "    }\n",
       "\n",
       "    .dataframe tbody tr th {\n",
       "        vertical-align: top;\n",
       "    }\n",
       "\n",
       "    .dataframe thead th {\n",
       "        text-align: right;\n",
       "    }\n",
       "</style>\n",
       "<table border=\"1\" class=\"dataframe\">\n",
       "  <thead>\n",
       "    <tr style=\"text-align: right;\">\n",
       "      <th></th>\n",
       "      <th>charge_time</th>\n",
       "      <th>country_code</th>\n",
       "      <th>customer_id</th>\n",
       "      <th>contract_id</th>\n",
       "      <th>customer_type</th>\n",
       "      <th>session_id</th>\n",
       "      <th>session_duration</th>\n",
       "      <th>power_usage</th>\n",
       "      <th>charging_phase</th>\n",
       "      <th>charge_day</th>\n",
       "    </tr>\n",
       "  </thead>\n",
       "  <tbody>\n",
       "    <tr>\n",
       "      <th>268</th>\n",
       "      <td>2020-01-05 07:42:45</td>\n",
       "      <td>CH</td>\n",
       "      <td>f6e3c57839d8f5d1e52ed0b2c58105be</td>\n",
       "      <td>ee1342237e0754d78e6500d03ae0573a</td>\n",
       "      <td>BUSINESS</td>\n",
       "      <td>0274dc29c890fbb788228d1f54796538</td>\n",
       "      <td>7.0</td>\n",
       "      <td>2.000</td>\n",
       "      <td>DC</td>\n",
       "      <td>Sunday</td>\n",
       "    </tr>\n",
       "    <tr>\n",
       "      <th>284</th>\n",
       "      <td>2020-01-05 10:16:29</td>\n",
       "      <td>CH</td>\n",
       "      <td>f6e3c57839d8f5d1e52ed0b2c58105be</td>\n",
       "      <td>ee1342237e0754d78e6500d03ae0573a</td>\n",
       "      <td>BUSINESS</td>\n",
       "      <td>4b6636a7aad7b6167f5f3c9b68e4240a</td>\n",
       "      <td>40.0</td>\n",
       "      <td>4.604</td>\n",
       "      <td>AC</td>\n",
       "      <td>Sunday</td>\n",
       "    </tr>\n",
       "    <tr>\n",
       "      <th>291</th>\n",
       "      <td>2020-01-05 11:28:17</td>\n",
       "      <td>CH</td>\n",
       "      <td>f6e3c57839d8f5d1e52ed0b2c58105be</td>\n",
       "      <td>ee1342237e0754d78e6500d03ae0573a</td>\n",
       "      <td>BUSINESS</td>\n",
       "      <td>0ee22357278c75b535e0510e15c48082</td>\n",
       "      <td>23.0</td>\n",
       "      <td>14.603</td>\n",
       "      <td>AC</td>\n",
       "      <td>Sunday</td>\n",
       "    </tr>\n",
       "    <tr>\n",
       "      <th>334</th>\n",
       "      <td>2020-01-05 16:36:35</td>\n",
       "      <td>CH</td>\n",
       "      <td>f6e3c57839d8f5d1e52ed0b2c58105be</td>\n",
       "      <td>ee1342237e0754d78e6500d03ae0573a</td>\n",
       "      <td>BUSINESS</td>\n",
       "      <td>ed35f65abedcba201a35144d3637b41e</td>\n",
       "      <td>19.0</td>\n",
       "      <td>13.700</td>\n",
       "      <td>DC</td>\n",
       "      <td>Sunday</td>\n",
       "    </tr>\n",
       "    <tr>\n",
       "      <th>537</th>\n",
       "      <td>2020-01-08 10:53:18</td>\n",
       "      <td>CH</td>\n",
       "      <td>f6e3c57839d8f5d1e52ed0b2c58105be</td>\n",
       "      <td>0ef26ad915c845bd8e3bf935de682724</td>\n",
       "      <td>BUSINESS</td>\n",
       "      <td>b4aa0d6e2a765cb9e04eb5fdb274ee4c</td>\n",
       "      <td>26.0</td>\n",
       "      <td>10.079</td>\n",
       "      <td>AC</td>\n",
       "      <td>Wednesday</td>\n",
       "    </tr>\n",
       "    <tr>\n",
       "      <th>...</th>\n",
       "      <td>...</td>\n",
       "      <td>...</td>\n",
       "      <td>...</td>\n",
       "      <td>...</td>\n",
       "      <td>...</td>\n",
       "      <td>...</td>\n",
       "      <td>...</td>\n",
       "      <td>...</td>\n",
       "      <td>...</td>\n",
       "      <td>...</td>\n",
       "    </tr>\n",
       "    <tr>\n",
       "      <th>7030</th>\n",
       "      <td>2020-03-31 15:13:24</td>\n",
       "      <td>CH</td>\n",
       "      <td>f6e3c57839d8f5d1e52ed0b2c58105be</td>\n",
       "      <td>12c492c61625cf414cad5b5465a23a24</td>\n",
       "      <td>BUSINESS</td>\n",
       "      <td>0175c7e3fc573ea2279e1d378043da10</td>\n",
       "      <td>30.0</td>\n",
       "      <td>5.306</td>\n",
       "      <td>DC</td>\n",
       "      <td>Tuesday</td>\n",
       "    </tr>\n",
       "    <tr>\n",
       "      <th>7328</th>\n",
       "      <td>2020-04-03 14:11:33</td>\n",
       "      <td>CH</td>\n",
       "      <td>f6e3c57839d8f5d1e52ed0b2c58105be</td>\n",
       "      <td>263e196177909953bc37af7f1f864d8b</td>\n",
       "      <td>BUSINESS</td>\n",
       "      <td>92e9b7b77a853965581ef8764dbf9086</td>\n",
       "      <td>31.0</td>\n",
       "      <td>23.011</td>\n",
       "      <td>HPC</td>\n",
       "      <td>Friday</td>\n",
       "    </tr>\n",
       "    <tr>\n",
       "      <th>7410</th>\n",
       "      <td>2020-04-04 11:21:40</td>\n",
       "      <td>CH</td>\n",
       "      <td>f6e3c57839d8f5d1e52ed0b2c58105be</td>\n",
       "      <td>263e196177909953bc37af7f1f864d8b</td>\n",
       "      <td>BUSINESS</td>\n",
       "      <td>988cc4d4d3689f5573fe1d0d227871b3</td>\n",
       "      <td>149.0</td>\n",
       "      <td>17.474</td>\n",
       "      <td>AC</td>\n",
       "      <td>Saturday</td>\n",
       "    </tr>\n",
       "    <tr>\n",
       "      <th>7426</th>\n",
       "      <td>2020-04-04 14:36:28</td>\n",
       "      <td>CH</td>\n",
       "      <td>f6e3c57839d8f5d1e52ed0b2c58105be</td>\n",
       "      <td>1cf980b9a61889f26d08d66c6c1aa36f</td>\n",
       "      <td>BUSINESS</td>\n",
       "      <td>cf24a29b23b84429d5040b19bd7679a2</td>\n",
       "      <td>20.0</td>\n",
       "      <td>14.514</td>\n",
       "      <td>DC</td>\n",
       "      <td>Saturday</td>\n",
       "    </tr>\n",
       "    <tr>\n",
       "      <th>7534</th>\n",
       "      <td>2020-04-05 17:12:30</td>\n",
       "      <td>CH</td>\n",
       "      <td>f6e3c57839d8f5d1e52ed0b2c58105be</td>\n",
       "      <td>1cf980b9a61889f26d08d66c6c1aa36f</td>\n",
       "      <td>BUSINESS</td>\n",
       "      <td>b067cf720b731b065903f8e8d47d2deb</td>\n",
       "      <td>22.0</td>\n",
       "      <td>14.768</td>\n",
       "      <td>DC</td>\n",
       "      <td>Sunday</td>\n",
       "    </tr>\n",
       "  </tbody>\n",
       "</table>\n",
       "<p>87 rows × 10 columns</p>\n",
       "</div>"
      ],
      "text/plain": [
       "             charge_time country_code                       customer_id  \\\n",
       "268  2020-01-05 07:42:45           CH  f6e3c57839d8f5d1e52ed0b2c58105be   \n",
       "284  2020-01-05 10:16:29           CH  f6e3c57839d8f5d1e52ed0b2c58105be   \n",
       "291  2020-01-05 11:28:17           CH  f6e3c57839d8f5d1e52ed0b2c58105be   \n",
       "334  2020-01-05 16:36:35           CH  f6e3c57839d8f5d1e52ed0b2c58105be   \n",
       "537  2020-01-08 10:53:18           CH  f6e3c57839d8f5d1e52ed0b2c58105be   \n",
       "...                  ...          ...                               ...   \n",
       "7030 2020-03-31 15:13:24           CH  f6e3c57839d8f5d1e52ed0b2c58105be   \n",
       "7328 2020-04-03 14:11:33           CH  f6e3c57839d8f5d1e52ed0b2c58105be   \n",
       "7410 2020-04-04 11:21:40           CH  f6e3c57839d8f5d1e52ed0b2c58105be   \n",
       "7426 2020-04-04 14:36:28           CH  f6e3c57839d8f5d1e52ed0b2c58105be   \n",
       "7534 2020-04-05 17:12:30           CH  f6e3c57839d8f5d1e52ed0b2c58105be   \n",
       "\n",
       "                           contract_id customer_type  \\\n",
       "268   ee1342237e0754d78e6500d03ae0573a      BUSINESS   \n",
       "284   ee1342237e0754d78e6500d03ae0573a      BUSINESS   \n",
       "291   ee1342237e0754d78e6500d03ae0573a      BUSINESS   \n",
       "334   ee1342237e0754d78e6500d03ae0573a      BUSINESS   \n",
       "537   0ef26ad915c845bd8e3bf935de682724      BUSINESS   \n",
       "...                                ...           ...   \n",
       "7030  12c492c61625cf414cad5b5465a23a24      BUSINESS   \n",
       "7328  263e196177909953bc37af7f1f864d8b      BUSINESS   \n",
       "7410  263e196177909953bc37af7f1f864d8b      BUSINESS   \n",
       "7426  1cf980b9a61889f26d08d66c6c1aa36f      BUSINESS   \n",
       "7534  1cf980b9a61889f26d08d66c6c1aa36f      BUSINESS   \n",
       "\n",
       "                            session_id  session_duration  power_usage  \\\n",
       "268   0274dc29c890fbb788228d1f54796538               7.0        2.000   \n",
       "284   4b6636a7aad7b6167f5f3c9b68e4240a              40.0        4.604   \n",
       "291   0ee22357278c75b535e0510e15c48082              23.0       14.603   \n",
       "334   ed35f65abedcba201a35144d3637b41e              19.0       13.700   \n",
       "537   b4aa0d6e2a765cb9e04eb5fdb274ee4c              26.0       10.079   \n",
       "...                                ...               ...          ...   \n",
       "7030  0175c7e3fc573ea2279e1d378043da10              30.0        5.306   \n",
       "7328  92e9b7b77a853965581ef8764dbf9086              31.0       23.011   \n",
       "7410  988cc4d4d3689f5573fe1d0d227871b3             149.0       17.474   \n",
       "7426  cf24a29b23b84429d5040b19bd7679a2              20.0       14.514   \n",
       "7534  b067cf720b731b065903f8e8d47d2deb              22.0       14.768   \n",
       "\n",
       "     charging_phase charge_day  \n",
       "268              DC     Sunday  \n",
       "284              AC     Sunday  \n",
       "291              AC     Sunday  \n",
       "334              DC     Sunday  \n",
       "537              AC  Wednesday  \n",
       "...             ...        ...  \n",
       "7030             DC    Tuesday  \n",
       "7328            HPC     Friday  \n",
       "7410             AC   Saturday  \n",
       "7426             DC   Saturday  \n",
       "7534             DC     Sunday  \n",
       "\n",
       "[87 rows x 10 columns]"
      ]
     },
     "execution_count": 30,
     "metadata": {},
     "output_type": "execute_result"
    }
   ],
   "source": [
    "#behavior of priority 1 customer\n",
    "prime_cust =data_ch[data_ch['customer_id'] == 'f6e3c57839d8f5d1e52ed0b2c58105be']\n",
    "prime_cust"
   ]
  },
  {
   "cell_type": "code",
   "execution_count": 31,
   "id": "e2c0d64b",
   "metadata": {},
   "outputs": [
    {
     "data": {
      "image/png": "[encoded data removed]",
      "text/plain": [
       "<Figure size 432x288 with 1 Axes>"
      ]
     },
     "metadata": {
      "needs_background": "light"
     },
     "output_type": "display_data"
    }
   ],
   "source": [
    "#fridays has been observed as most power usage day of top customer\n",
    "sns.barplot(x=\"charge_day\", y=\"power_usage\", data=prime_cust);"
   ]
  },
  {
   "cell_type": "code",
   "execution_count": 32,
   "id": "8bffd448",
   "metadata": {},
   "outputs": [
    {
     "data": {
      "image/png": "[encoded data removed]",
      "text/plain": [
       "<Figure size 432x288 with 1 Axes>"
      ]
     },
     "metadata": {
      "needs_background": "light"
     },
     "output_type": "display_data"
    }
   ],
   "source": [
    "#Lets see which is most overall power usage day\n",
    "#There has been no specifuc insights driven from below\n",
    "sns.barplot(x=\"charge_day\", y=\"power_usage\", data=data_ch);"
   ]
  },
  {
   "cell_type": "code",
   "execution_count": 33,
   "id": "05554427",
   "metadata": {},
   "outputs": [
    {
     "data": {
      "text/html": [
       "<div>\n",
       "<style scoped>\n",
       "    .dataframe tbody tr th:only-of-type {\n",
       "        vertical-align: middle;\n",
       "    }\n",
       "\n",
       "    .dataframe tbody tr th {\n",
       "        vertical-align: top;\n",
       "    }\n",
       "\n",
       "    .dataframe thead th {\n",
       "        text-align: right;\n",
       "    }\n",
       "</style>\n",
       "<table border=\"1\" class=\"dataframe\">\n",
       "  <thead>\n",
       "    <tr style=\"text-align: right;\">\n",
       "      <th></th>\n",
       "      <th>charge_time</th>\n",
       "      <th>country_code</th>\n",
       "      <th>customer_id</th>\n",
       "      <th>contract_id</th>\n",
       "      <th>customer_type</th>\n",
       "      <th>session_id</th>\n",
       "      <th>session_duration</th>\n",
       "      <th>power_usage</th>\n",
       "      <th>charging_phase</th>\n",
       "      <th>charge_day</th>\n",
       "    </tr>\n",
       "  </thead>\n",
       "  <tbody>\n",
       "    <tr>\n",
       "      <th>2016</th>\n",
       "      <td>2020-01-30 13:39:34</td>\n",
       "      <td>CH</td>\n",
       "      <td>58aceba2461bd8a8b7d215bf9e46b2ce</td>\n",
       "      <td>94a28dfb9520a35154a732fc94abfbff</td>\n",
       "      <td>PRIVATE</td>\n",
       "      <td>1db02e8c22ab823a0d3440634675bc65</td>\n",
       "      <td>6.0</td>\n",
       "      <td>2.786</td>\n",
       "      <td>HPC</td>\n",
       "      <td>Thursday</td>\n",
       "    </tr>\n",
       "  </tbody>\n",
       "</table>\n",
       "</div>"
      ],
      "text/plain": [
       "             charge_time country_code                       customer_id  \\\n",
       "2016 2020-01-30 13:39:34           CH  58aceba2461bd8a8b7d215bf9e46b2ce   \n",
       "\n",
       "                           contract_id customer_type  \\\n",
       "2016  94a28dfb9520a35154a732fc94abfbff       PRIVATE   \n",
       "\n",
       "                            session_id  session_duration  power_usage  \\\n",
       "2016  1db02e8c22ab823a0d3440634675bc65               6.0        2.786   \n",
       "\n",
       "     charging_phase charge_day  \n",
       "2016            HPC   Thursday  "
      ]
     },
     "execution_count": 33,
     "metadata": {},
     "output_type": "execute_result"
    }
   ],
   "source": [
    "#detecting duplicate session ID\n",
    "data_ch[data_ch['session_id'].duplicated()]"
   ]
  },
  {
   "cell_type": "code",
   "execution_count": 34,
   "id": "323501d0",
   "metadata": {},
   "outputs": [
    {
     "data": {
      "text/html": [
       "<div>\n",
       "<style scoped>\n",
       "    .dataframe tbody tr th:only-of-type {\n",
       "        vertical-align: middle;\n",
       "    }\n",
       "\n",
       "    .dataframe tbody tr th {\n",
       "        vertical-align: top;\n",
       "    }\n",
       "\n",
       "    .dataframe thead th {\n",
       "        text-align: right;\n",
       "    }\n",
       "</style>\n",
       "<table border=\"1\" class=\"dataframe\">\n",
       "  <thead>\n",
       "    <tr style=\"text-align: right;\">\n",
       "      <th></th>\n",
       "      <th>charge_time</th>\n",
       "      <th>country_code</th>\n",
       "      <th>customer_id</th>\n",
       "      <th>contract_id</th>\n",
       "      <th>customer_type</th>\n",
       "      <th>session_id</th>\n",
       "      <th>session_duration</th>\n",
       "      <th>power_usage</th>\n",
       "      <th>charging_phase</th>\n",
       "      <th>charge_day</th>\n",
       "    </tr>\n",
       "  </thead>\n",
       "  <tbody>\n",
       "    <tr>\n",
       "      <th>2015</th>\n",
       "      <td>2020-01-30 13:39:34</td>\n",
       "      <td>CH</td>\n",
       "      <td>58aceba2461bd8a8b7d215bf9e46b2ce</td>\n",
       "      <td>94a28dfb9520a35154a732fc94abfbff</td>\n",
       "      <td>PRIVATE</td>\n",
       "      <td>1db02e8c22ab823a0d3440634675bc65</td>\n",
       "      <td>6.0</td>\n",
       "      <td>0.602333</td>\n",
       "      <td>HPC</td>\n",
       "      <td>Thursday</td>\n",
       "    </tr>\n",
       "    <tr>\n",
       "      <th>2016</th>\n",
       "      <td>2020-01-30 13:39:34</td>\n",
       "      <td>CH</td>\n",
       "      <td>58aceba2461bd8a8b7d215bf9e46b2ce</td>\n",
       "      <td>94a28dfb9520a35154a732fc94abfbff</td>\n",
       "      <td>PRIVATE</td>\n",
       "      <td>1db02e8c22ab823a0d3440634675bc65</td>\n",
       "      <td>6.0</td>\n",
       "      <td>2.786000</td>\n",
       "      <td>HPC</td>\n",
       "      <td>Thursday</td>\n",
       "    </tr>\n",
       "  </tbody>\n",
       "</table>\n",
       "</div>"
      ],
      "text/plain": [
       "             charge_time country_code                       customer_id  \\\n",
       "2015 2020-01-30 13:39:34           CH  58aceba2461bd8a8b7d215bf9e46b2ce   \n",
       "2016 2020-01-30 13:39:34           CH  58aceba2461bd8a8b7d215bf9e46b2ce   \n",
       "\n",
       "                           contract_id customer_type  \\\n",
       "2015  94a28dfb9520a35154a732fc94abfbff       PRIVATE   \n",
       "2016  94a28dfb9520a35154a732fc94abfbff       PRIVATE   \n",
       "\n",
       "                            session_id  session_duration  power_usage  \\\n",
       "2015  1db02e8c22ab823a0d3440634675bc65               6.0     0.602333   \n",
       "2016  1db02e8c22ab823a0d3440634675bc65               6.0     2.786000   \n",
       "\n",
       "     charging_phase charge_day  \n",
       "2015            HPC   Thursday  \n",
       "2016            HPC   Thursday  "
      ]
     },
     "execution_count": 34,
     "metadata": {},
     "output_type": "execute_result"
    }
   ],
   "source": [
    "#small anamoly observed in the data. There is one duplicate session id having different power_usage with same charge_time,same customer\n",
    "data_ch[data_ch['session_id'] == '1db02e8c22ab823a0d3440634675bc65']"
   ]
  },
  {
   "cell_type": "code",
   "execution_count": 35,
   "id": "97112e7a",
   "metadata": {},
   "outputs": [
    {
     "data": {
      "text/html": [
       "<div>\n",
       "<style scoped>\n",
       "    .dataframe tbody tr th:only-of-type {\n",
       "        vertical-align: middle;\n",
       "    }\n",
       "\n",
       "    .dataframe tbody tr th {\n",
       "        vertical-align: top;\n",
       "    }\n",
       "\n",
       "    .dataframe thead th {\n",
       "        text-align: right;\n",
       "    }\n",
       "</style>\n",
       "<table border=\"1\" class=\"dataframe\">\n",
       "  <thead>\n",
       "    <tr style=\"text-align: right;\">\n",
       "      <th></th>\n",
       "      <th>charge_time</th>\n",
       "      <th>country_code</th>\n",
       "      <th>customer_id</th>\n",
       "      <th>contract_id</th>\n",
       "      <th>customer_type</th>\n",
       "      <th>session_id</th>\n",
       "      <th>session_duration</th>\n",
       "      <th>power_usage</th>\n",
       "      <th>charging_phase</th>\n",
       "      <th>charge_day</th>\n",
       "    </tr>\n",
       "  </thead>\n",
       "  <tbody>\n",
       "    <tr>\n",
       "      <th>2276</th>\n",
       "      <td>2020-02-03 17:26:04</td>\n",
       "      <td>CH</td>\n",
       "      <td>9ea171d29cf47e186d083c06be4e2ca2</td>\n",
       "      <td>8cbcca88f9fbbe5edc41356b2a908225</td>\n",
       "      <td>PRIVATE</td>\n",
       "      <td>dced651bfe94077d95b2d542473e5a8e</td>\n",
       "      <td>0.0</td>\n",
       "      <td>0.000</td>\n",
       "      <td>DC</td>\n",
       "      <td>Monday</td>\n",
       "    </tr>\n",
       "    <tr>\n",
       "      <th>3612</th>\n",
       "      <td>2020-02-21 09:35:19</td>\n",
       "      <td>CH</td>\n",
       "      <td>34b9df8d0ab73f851c2950554db628f7</td>\n",
       "      <td>ff9fbdb0ab92fb875ce8f64f079543c4</td>\n",
       "      <td>PRIVATE</td>\n",
       "      <td>44b914c2b9fc817f2942b12bdf884b90</td>\n",
       "      <td>0.0</td>\n",
       "      <td>7.145</td>\n",
       "      <td>HPC</td>\n",
       "      <td>Friday</td>\n",
       "    </tr>\n",
       "    <tr>\n",
       "      <th>3922</th>\n",
       "      <td>2020-02-25 12:39:23</td>\n",
       "      <td>CH</td>\n",
       "      <td>7f64ababa0a18b7a549de081ebfb7084</td>\n",
       "      <td>2cb0f7c08bfd837b0392d0f13f7c9c9e</td>\n",
       "      <td>PRIVATE</td>\n",
       "      <td>fcef0f11d7f034965f2c0e37ce301b54</td>\n",
       "      <td>0.0</td>\n",
       "      <td>1.766</td>\n",
       "      <td>AC</td>\n",
       "      <td>Tuesday</td>\n",
       "    </tr>\n",
       "    <tr>\n",
       "      <th>3923</th>\n",
       "      <td>2020-02-25 12:39:26</td>\n",
       "      <td>CH</td>\n",
       "      <td>7f64ababa0a18b7a549de081ebfb7084</td>\n",
       "      <td>2cb0f7c08bfd837b0392d0f13f7c9c9e</td>\n",
       "      <td>PRIVATE</td>\n",
       "      <td>0117058bb9db8645ac25c074ca9205a9</td>\n",
       "      <td>0.0</td>\n",
       "      <td>5.650</td>\n",
       "      <td>AC</td>\n",
       "      <td>Tuesday</td>\n",
       "    </tr>\n",
       "    <tr>\n",
       "      <th>3924</th>\n",
       "      <td>2020-02-25 12:39:31</td>\n",
       "      <td>CH</td>\n",
       "      <td>7f64ababa0a18b7a549de081ebfb7084</td>\n",
       "      <td>2cb0f7c08bfd837b0392d0f13f7c9c9e</td>\n",
       "      <td>PRIVATE</td>\n",
       "      <td>b9815474629d2c6f0b84b2e2008f6f40</td>\n",
       "      <td>0.0</td>\n",
       "      <td>4.727</td>\n",
       "      <td>AC</td>\n",
       "      <td>Tuesday</td>\n",
       "    </tr>\n",
       "    <tr>\n",
       "      <th>3925</th>\n",
       "      <td>2020-02-25 12:39:38</td>\n",
       "      <td>CH</td>\n",
       "      <td>7f64ababa0a18b7a549de081ebfb7084</td>\n",
       "      <td>2cb0f7c08bfd837b0392d0f13f7c9c9e</td>\n",
       "      <td>PRIVATE</td>\n",
       "      <td>894016394b423fafa8ea0cb3cdbb4632</td>\n",
       "      <td>0.0</td>\n",
       "      <td>5.501</td>\n",
       "      <td>AC</td>\n",
       "      <td>Tuesday</td>\n",
       "    </tr>\n",
       "    <tr>\n",
       "      <th>5548</th>\n",
       "      <td>2020-03-15 18:33:15</td>\n",
       "      <td>CH</td>\n",
       "      <td>5403243e765562bb3726b3acbbac15d1</td>\n",
       "      <td>8a361c84f1f9688fc47d246ae7d21372</td>\n",
       "      <td>PRIVATE</td>\n",
       "      <td>a415c85c2d6e30b4736d22c4ba61af66</td>\n",
       "      <td>0.0</td>\n",
       "      <td>0.000</td>\n",
       "      <td>AC</td>\n",
       "      <td>Sunday</td>\n",
       "    </tr>\n",
       "    <tr>\n",
       "      <th>5552</th>\n",
       "      <td>2020-03-15 18:46:50</td>\n",
       "      <td>CH</td>\n",
       "      <td>5403243e765562bb3726b3acbbac15d1</td>\n",
       "      <td>8a361c84f1f9688fc47d246ae7d21372</td>\n",
       "      <td>PRIVATE</td>\n",
       "      <td>33e0365b6f10759fb8ac9b792c4bc788</td>\n",
       "      <td>0.0</td>\n",
       "      <td>0.000</td>\n",
       "      <td>AC</td>\n",
       "      <td>Sunday</td>\n",
       "    </tr>\n",
       "    <tr>\n",
       "      <th>7063</th>\n",
       "      <td>2020-04-01 02:48:32</td>\n",
       "      <td>CH</td>\n",
       "      <td>5403243e765562bb3726b3acbbac15d1</td>\n",
       "      <td>8a361c84f1f9688fc47d246ae7d21372</td>\n",
       "      <td>PRIVATE</td>\n",
       "      <td>9e7903ac18433c4354d6f463ce450041</td>\n",
       "      <td>0.0</td>\n",
       "      <td>25.817</td>\n",
       "      <td>AC</td>\n",
       "      <td>Wednesday</td>\n",
       "    </tr>\n",
       "  </tbody>\n",
       "</table>\n",
       "</div>"
      ],
      "text/plain": [
       "             charge_time country_code                       customer_id  \\\n",
       "2276 2020-02-03 17:26:04           CH  9ea171d29cf47e186d083c06be4e2ca2   \n",
       "3612 2020-02-21 09:35:19           CH  34b9df8d0ab73f851c2950554db628f7   \n",
       "3922 2020-02-25 12:39:23           CH  7f64ababa0a18b7a549de081ebfb7084   \n",
       "3923 2020-02-25 12:39:26           CH  7f64ababa0a18b7a549de081ebfb7084   \n",
       "3924 2020-02-25 12:39:31           CH  7f64ababa0a18b7a549de081ebfb7084   \n",
       "3925 2020-02-25 12:39:38           CH  7f64ababa0a18b7a549de081ebfb7084   \n",
       "5548 2020-03-15 18:33:15           CH  5403243e765562bb3726b3acbbac15d1   \n",
       "5552 2020-03-15 18:46:50           CH  5403243e765562bb3726b3acbbac15d1   \n",
       "7063 2020-04-01 02:48:32           CH  5403243e765562bb3726b3acbbac15d1   \n",
       "\n",
       "                           contract_id customer_type  \\\n",
       "2276  8cbcca88f9fbbe5edc41356b2a908225       PRIVATE   \n",
       "3612  ff9fbdb0ab92fb875ce8f64f079543c4       PRIVATE   \n",
       "3922  2cb0f7c08bfd837b0392d0f13f7c9c9e       PRIVATE   \n",
       "3923  2cb0f7c08bfd837b0392d0f13f7c9c9e       PRIVATE   \n",
       "3924  2cb0f7c08bfd837b0392d0f13f7c9c9e       PRIVATE   \n",
       "3925  2cb0f7c08bfd837b0392d0f13f7c9c9e       PRIVATE   \n",
       "5548  8a361c84f1f9688fc47d246ae7d21372       PRIVATE   \n",
       "5552  8a361c84f1f9688fc47d246ae7d21372       PRIVATE   \n",
       "7063  8a361c84f1f9688fc47d246ae7d21372       PRIVATE   \n",
       "\n",
       "                            session_id  session_duration  power_usage  \\\n",
       "2276  dced651bfe94077d95b2d542473e5a8e               0.0        0.000   \n",
       "3612  44b914c2b9fc817f2942b12bdf884b90               0.0        7.145   \n",
       "3922  fcef0f11d7f034965f2c0e37ce301b54               0.0        1.766   \n",
       "3923  0117058bb9db8645ac25c074ca9205a9               0.0        5.650   \n",
       "3924  b9815474629d2c6f0b84b2e2008f6f40               0.0        4.727   \n",
       "3925  894016394b423fafa8ea0cb3cdbb4632               0.0        5.501   \n",
       "5548  a415c85c2d6e30b4736d22c4ba61af66               0.0        0.000   \n",
       "5552  33e0365b6f10759fb8ac9b792c4bc788               0.0        0.000   \n",
       "7063  9e7903ac18433c4354d6f463ce450041               0.0       25.817   \n",
       "\n",
       "     charging_phase charge_day  \n",
       "2276             DC     Monday  \n",
       "3612            HPC     Friday  \n",
       "3922             AC    Tuesday  \n",
       "3923             AC    Tuesday  \n",
       "3924             AC    Tuesday  \n",
       "3925             AC    Tuesday  \n",
       "5548             AC     Sunday  \n",
       "5552             AC     Sunday  \n",
       "7063             AC  Wednesday  "
      ]
     },
     "execution_count": 35,
     "metadata": {},
     "output_type": "execute_result"
    }
   ],
   "source": [
    "#Obeserved issue with the data below. Session time is not captured for below session ids\n",
    "data_ch[data_ch['session_duration'] == 0 ]"
   ]
  },
  {
   "cell_type": "code",
   "execution_count": 36,
   "id": "0619df09",
   "metadata": {},
   "outputs": [
    {
     "data": {
      "text/html": [
       "<div>\n",
       "<style scoped>\n",
       "    .dataframe tbody tr th:only-of-type {\n",
       "        vertical-align: middle;\n",
       "    }\n",
       "\n",
       "    .dataframe tbody tr th {\n",
       "        vertical-align: top;\n",
       "    }\n",
       "\n",
       "    .dataframe thead th {\n",
       "        text-align: right;\n",
       "    }\n",
       "</style>\n",
       "<table border=\"1\" class=\"dataframe\">\n",
       "  <thead>\n",
       "    <tr style=\"text-align: right;\">\n",
       "      <th></th>\n",
       "      <th>charge_time</th>\n",
       "      <th>country_code</th>\n",
       "      <th>customer_id</th>\n",
       "      <th>contract_id</th>\n",
       "      <th>customer_type</th>\n",
       "      <th>session_id</th>\n",
       "      <th>session_duration</th>\n",
       "      <th>power_usage</th>\n",
       "      <th>charging_phase</th>\n",
       "      <th>charge_day</th>\n",
       "    </tr>\n",
       "  </thead>\n",
       "  <tbody>\n",
       "    <tr>\n",
       "      <th>14</th>\n",
       "      <td>2020-01-01 13:27:35</td>\n",
       "      <td>CH</td>\n",
       "      <td>2026dd4c3e6bbc6de46a98432db3a929</td>\n",
       "      <td>11f3db4f0fe6f1951d1dcf62d19cdcc1</td>\n",
       "      <td>PRIVATE</td>\n",
       "      <td>277712807ec5e89b175f034d136430b2</td>\n",
       "      <td>8.0</td>\n",
       "      <td>0.0</td>\n",
       "      <td>AC</td>\n",
       "      <td>Wednesday</td>\n",
       "    </tr>\n",
       "    <tr>\n",
       "      <th>46</th>\n",
       "      <td>2020-01-01 19:12:03</td>\n",
       "      <td>CH</td>\n",
       "      <td>fe2eb2f0560c8352918c5f805455a602</td>\n",
       "      <td>37f47bf0434530aa11f960b300cfba13</td>\n",
       "      <td>PRIVATE</td>\n",
       "      <td>1e6104b2c718aabe55737041049a2c1f</td>\n",
       "      <td>2.0</td>\n",
       "      <td>0.0</td>\n",
       "      <td>AC</td>\n",
       "      <td>Wednesday</td>\n",
       "    </tr>\n",
       "    <tr>\n",
       "      <th>48</th>\n",
       "      <td>2020-01-01 19:19:38</td>\n",
       "      <td>CH</td>\n",
       "      <td>e55da6d27e8671d31f63266b9508d749</td>\n",
       "      <td>e05f518d51c3565179ebec1de2f44b68</td>\n",
       "      <td>PRIVATE</td>\n",
       "      <td>e68d2fe142842c6de5b979460dbf7dc5</td>\n",
       "      <td>1.0</td>\n",
       "      <td>0.0</td>\n",
       "      <td>DC</td>\n",
       "      <td>Wednesday</td>\n",
       "    </tr>\n",
       "    <tr>\n",
       "      <th>53</th>\n",
       "      <td>2020-01-02 02:49:09</td>\n",
       "      <td>CH</td>\n",
       "      <td>fe2eb2f0560c8352918c5f805455a602</td>\n",
       "      <td>37f47bf0434530aa11f960b300cfba13</td>\n",
       "      <td>PRIVATE</td>\n",
       "      <td>886c06464b74553ffa47bb9b597371dd</td>\n",
       "      <td>1.0</td>\n",
       "      <td>0.0</td>\n",
       "      <td>DC</td>\n",
       "      <td>Thursday</td>\n",
       "    </tr>\n",
       "    <tr>\n",
       "      <th>54</th>\n",
       "      <td>2020-01-02 02:50:19</td>\n",
       "      <td>CH</td>\n",
       "      <td>fe2eb2f0560c8352918c5f805455a602</td>\n",
       "      <td>37f47bf0434530aa11f960b300cfba13</td>\n",
       "      <td>PRIVATE</td>\n",
       "      <td>c85a1fae4337cf7c2164fd123a41fed5</td>\n",
       "      <td>1.0</td>\n",
       "      <td>0.0</td>\n",
       "      <td>DC</td>\n",
       "      <td>Thursday</td>\n",
       "    </tr>\n",
       "    <tr>\n",
       "      <th>...</th>\n",
       "      <td>...</td>\n",
       "      <td>...</td>\n",
       "      <td>...</td>\n",
       "      <td>...</td>\n",
       "      <td>...</td>\n",
       "      <td>...</td>\n",
       "      <td>...</td>\n",
       "      <td>...</td>\n",
       "      <td>...</td>\n",
       "      <td>...</td>\n",
       "    </tr>\n",
       "    <tr>\n",
       "      <th>7594</th>\n",
       "      <td>2020-04-06 13:58:37</td>\n",
       "      <td>CH</td>\n",
       "      <td>f3ada80d5c4ee70142b17b8192b2958e</td>\n",
       "      <td>27cfbc0016590311a78c952a414f2dc5</td>\n",
       "      <td>PRIVATE</td>\n",
       "      <td>b8d4e2aa402683735c064405c11062e4</td>\n",
       "      <td>1.0</td>\n",
       "      <td>0.0</td>\n",
       "      <td>AC</td>\n",
       "      <td>Monday</td>\n",
       "    </tr>\n",
       "    <tr>\n",
       "      <th>7604</th>\n",
       "      <td>2020-04-06 15:06:24</td>\n",
       "      <td>CH</td>\n",
       "      <td>c4979b4ce3cbd8a8a595a28e292ff73a</td>\n",
       "      <td>40aaa3db49dcc5e87c0e7c44b3077aff</td>\n",
       "      <td>PRIVATE</td>\n",
       "      <td>888217f8427b2c0c4c1095bb5ac548b8</td>\n",
       "      <td>35.0</td>\n",
       "      <td>0.0</td>\n",
       "      <td>AC</td>\n",
       "      <td>Monday</td>\n",
       "    </tr>\n",
       "    <tr>\n",
       "      <th>7632</th>\n",
       "      <td>2020-04-06 18:39:53</td>\n",
       "      <td>CH</td>\n",
       "      <td>407c334809565d941338efc9e3a9f687</td>\n",
       "      <td>8f55afb574fe5ce0b584552638cd3287</td>\n",
       "      <td>PRIVATE</td>\n",
       "      <td>e23053cfd3328ddd6effab2ff3c6b179</td>\n",
       "      <td>865.0</td>\n",
       "      <td>0.0</td>\n",
       "      <td>AC</td>\n",
       "      <td>Monday</td>\n",
       "    </tr>\n",
       "    <tr>\n",
       "      <th>7641</th>\n",
       "      <td>2020-04-06 21:45:26</td>\n",
       "      <td>CH</td>\n",
       "      <td>3be780be39e998dd0c9d437b9b3a567d</td>\n",
       "      <td>11a1ac3ce9814860cbfc26ee03e73e8c</td>\n",
       "      <td>PRIVATE</td>\n",
       "      <td>4d23a633ac635bc126552229a7066ecd</td>\n",
       "      <td>2.0</td>\n",
       "      <td>0.0</td>\n",
       "      <td>AC</td>\n",
       "      <td>Monday</td>\n",
       "    </tr>\n",
       "    <tr>\n",
       "      <th>7642</th>\n",
       "      <td>2020-04-06 21:47:46</td>\n",
       "      <td>CH</td>\n",
       "      <td>3be780be39e998dd0c9d437b9b3a567d</td>\n",
       "      <td>11a1ac3ce9814860cbfc26ee03e73e8c</td>\n",
       "      <td>PRIVATE</td>\n",
       "      <td>13af09403f147b5d37d7a6a08642e7a6</td>\n",
       "      <td>1.0</td>\n",
       "      <td>0.0</td>\n",
       "      <td>AC</td>\n",
       "      <td>Monday</td>\n",
       "    </tr>\n",
       "  </tbody>\n",
       "</table>\n",
       "<p>712 rows × 10 columns</p>\n",
       "</div>"
      ],
      "text/plain": [
       "             charge_time country_code                       customer_id  \\\n",
       "14   2020-01-01 13:27:35           CH  2026dd4c3e6bbc6de46a98432db3a929   \n",
       "46   2020-01-01 19:12:03           CH  fe2eb2f0560c8352918c5f805455a602   \n",
       "48   2020-01-01 19:19:38           CH  e55da6d27e8671d31f63266b9508d749   \n",
       "53   2020-01-02 02:49:09           CH  fe2eb2f0560c8352918c5f805455a602   \n",
       "54   2020-01-02 02:50:19           CH  fe2eb2f0560c8352918c5f805455a602   \n",
       "...                  ...          ...                               ...   \n",
       "7594 2020-04-06 13:58:37           CH  f3ada80d5c4ee70142b17b8192b2958e   \n",
       "7604 2020-04-06 15:06:24           CH  c4979b4ce3cbd8a8a595a28e292ff73a   \n",
       "7632 2020-04-06 18:39:53           CH  407c334809565d941338efc9e3a9f687   \n",
       "7641 2020-04-06 21:45:26           CH  3be780be39e998dd0c9d437b9b3a567d   \n",
       "7642 2020-04-06 21:47:46           CH  3be780be39e998dd0c9d437b9b3a567d   \n",
       "\n",
       "                           contract_id customer_type  \\\n",
       "14    11f3db4f0fe6f1951d1dcf62d19cdcc1       PRIVATE   \n",
       "46    37f47bf0434530aa11f960b300cfba13       PRIVATE   \n",
       "48    e05f518d51c3565179ebec1de2f44b68       PRIVATE   \n",
       "53    37f47bf0434530aa11f960b300cfba13       PRIVATE   \n",
       "54    37f47bf0434530aa11f960b300cfba13       PRIVATE   \n",
       "...                                ...           ...   \n",
       "7594  27cfbc0016590311a78c952a414f2dc5       PRIVATE   \n",
       "7604  40aaa3db49dcc5e87c0e7c44b3077aff       PRIVATE   \n",
       "7632  8f55afb574fe5ce0b584552638cd3287       PRIVATE   \n",
       "7641  11a1ac3ce9814860cbfc26ee03e73e8c       PRIVATE   \n",
       "7642  11a1ac3ce9814860cbfc26ee03e73e8c       PRIVATE   \n",
       "\n",
       "                            session_id  session_duration  power_usage  \\\n",
       "14    277712807ec5e89b175f034d136430b2               8.0          0.0   \n",
       "46    1e6104b2c718aabe55737041049a2c1f               2.0          0.0   \n",
       "48    e68d2fe142842c6de5b979460dbf7dc5               1.0          0.0   \n",
       "53    886c06464b74553ffa47bb9b597371dd               1.0          0.0   \n",
       "54    c85a1fae4337cf7c2164fd123a41fed5               1.0          0.0   \n",
       "...                                ...               ...          ...   \n",
       "7594  b8d4e2aa402683735c064405c11062e4               1.0          0.0   \n",
       "7604  888217f8427b2c0c4c1095bb5ac548b8              35.0          0.0   \n",
       "7632  e23053cfd3328ddd6effab2ff3c6b179             865.0          0.0   \n",
       "7641  4d23a633ac635bc126552229a7066ecd               2.0          0.0   \n",
       "7642  13af09403f147b5d37d7a6a08642e7a6               1.0          0.0   \n",
       "\n",
       "     charging_phase charge_day  \n",
       "14               AC  Wednesday  \n",
       "46               AC  Wednesday  \n",
       "48               DC  Wednesday  \n",
       "53               DC   Thursday  \n",
       "54               DC   Thursday  \n",
       "...             ...        ...  \n",
       "7594             AC     Monday  \n",
       "7604             AC     Monday  \n",
       "7632             AC     Monday  \n",
       "7641             AC     Monday  \n",
       "7642             AC     Monday  \n",
       "\n",
       "[712 rows x 10 columns]"
      ]
     },
     "execution_count": 36,
     "metadata": {},
     "output_type": "execute_result"
    }
   ],
   "source": [
    "# In below data either the power_usage is not captured or customer for parked but could not charge\n",
    "data_ch[data_ch['power_usage'] == 0 ]"
   ]
  },
  {
   "cell_type": "markdown",
   "id": "541df9d3",
   "metadata": {},
   "source": [
    "#### Because the session duration can contain both the charging time and the parking time of a vehicle, can you identify approximately which chargiung sessions have long parking times. Explain your thought process"
   ]
  },
  {
   "cell_type": "code",
   "execution_count": 37,
   "id": "ca218dbe",
   "metadata": {},
   "outputs": [],
   "source": [
    "#session duration = charging_time + parking_time\n",
    "#There are multiple factor considered to calculate charging time. There is no proper category mentioned for charging and parking time\n",
    "# As per my knowledge, factors affecting the charging speed ------\n",
    "#reference = https://www.inchcalculator.com/electric-vehicle-charging-time-calculator/\n",
    "#1) battery capacity (KW)\n",
    "#2) session time (mins)\n",
    "#3)Max charging rate of vehicle\n",
    "#4)environmental factors\n",
    "#5)capacity of charging station(level of charging in volts , level 1, level 2)\n",
    "#6)no of outlets to the charger\n",
    "\n",
    "#charging_time = battery_capacity/charging_speed*0.9\n",
    "#note : 0.9 is which is the average power efficiency.\n"
   ]
  },
  {
   "cell_type": "code",
   "execution_count": 38,
   "id": "a0a83fc3",
   "metadata": {},
   "outputs": [],
   "source": [
    "#As we donot have enough paramater to estimate the charing and parking time, the solution for this to detect the outlier in session time.\n",
    "# Charging time varies with respect to charging phase. AC requires more charging time compare to DC and HPC.\n",
    "# Hence, detecting extreme session duration for each charging type.\n",
    "def long_park(duration):\n",
    "    Q1 = duration.quantile(0.25)\n",
    "    Q3 = duration.quantile(0.75)\n",
    "    IQR = Q3 - Q1\n",
    "    upper_bound = Q3 +(1.5 * IQR)\n",
    "    return upper_bound"
   ]
  },
  {
   "cell_type": "code",
   "execution_count": 39,
   "id": "87cb2014",
   "metadata": {},
   "outputs": [
    {
     "data": {
      "text/plain": [
       "(373.0, 87.5, 51.75)"
      ]
     },
     "execution_count": 39,
     "metadata": {},
     "output_type": "execute_result"
    }
   ],
   "source": [
    "AC_park = long_park(AC.session_duration)\n",
    "DC_park = long_park(DC.session_duration)\n",
    "HPC_park = long_park(HPC.session_duration)\n",
    "AC_park,DC_park,HPC_park"
   ]
  },
  {
   "cell_type": "code",
   "execution_count": 40,
   "id": "b46510ae",
   "metadata": {},
   "outputs": [
    {
     "data": {
      "text/plain": [
       "(             charge_time country_code                       customer_id  \\\n",
       " 28   2020-01-01 15:02:27           CH  63d4e77fd8a80ee81cb5de8e34d7151f   \n",
       " 32   2020-01-01 15:55:18           CH  9f33478ce4c75d66df06c4f746d7827c   \n",
       " 44   2020-01-01 18:04:55           CH  b73bade959e6beceb6678acbbbb5be57   \n",
       " 47   2020-01-01 19:13:12           CH  fe2eb2f0560c8352918c5f805455a602   \n",
       " 95   2020-01-02 14:42:59           CH  e348e4d768ee19c1d0c68ce3a66d6303   \n",
       " ...                  ...          ...                               ...   \n",
       " 7549 2020-04-06 06:56:28           CH  d70836bc38ac932002379f9520300d7c   \n",
       " 7558 2020-04-06 08:39:31           CH  4930377a4ade3b1e7b9e19d1ae9f87dc   \n",
       " 7621 2020-04-06 17:55:06           CH  0b1ec7225cc65947854e79e7a58c63bc   \n",
       " 7627 2020-04-06 18:17:43           CH  fcdf80dc62e184f1a306c980eb26c191   \n",
       " 7632 2020-04-06 18:39:53           CH  407c334809565d941338efc9e3a9f687   \n",
       " \n",
       "                            contract_id customer_type  \\\n",
       " 28    28624473d5ec718ada06362e24e96a27       PRIVATE   \n",
       " 32    1341df4d6b5b4ec64762c2b25ebf1311       PRIVATE   \n",
       " 44    2e1e3df342867daae2f3d368c035beef       PRIVATE   \n",
       " 47    37f47bf0434530aa11f960b300cfba13       PRIVATE   \n",
       " 95    a020409ad0d22ccfc7bcc04603c527df       PRIVATE   \n",
       " ...                                ...           ...   \n",
       " 7549  7a13b980150c581024053dcfd439315a       PRIVATE   \n",
       " 7558  ce08aa4e36e4ecd42af5299515269683       PRIVATE   \n",
       " 7621  814e34d90195d685f91e77124e181566       PRIVATE   \n",
       " 7627  aa330830cc9456582149af77d1a2016a       PRIVATE   \n",
       " 7632  8f55afb574fe5ce0b584552638cd3287       PRIVATE   \n",
       " \n",
       "                             session_id  session_duration  power_usage  \\\n",
       " 28    182523d940e7cf2b0be2f8121893ec00             401.0       24.147   \n",
       " 32    3a1bb17b948e6dbc50005f8887acf0fe            1044.0        4.979   \n",
       " 44    8afb45c879648f7f2b9a42e038d522c8            1320.0       61.232   \n",
       " 47    44952adf44a939e0ce3b7da8e3893e71             409.0       24.903   \n",
       " 95    eb13cb4e01126972cf7b1c494a5a0419            1099.0       22.864   \n",
       " ...                                ...               ...          ...   \n",
       " 7549  a68393515718d3d15bd773c03ac10838             617.0        5.400   \n",
       " 7558  49ef41cea439f67966b24bb1673311a3             583.0       12.809   \n",
       " 7621  defc3e52c341dcf6905a532b902377d6             919.0       18.073   \n",
       " 7627  fec3e98ca982d635476da5dde6b9e6a3             522.0       36.626   \n",
       " 7632  e23053cfd3328ddd6effab2ff3c6b179             865.0        0.000   \n",
       " \n",
       "      charging_phase charge_day  \n",
       " 28               AC  Wednesday  \n",
       " 32               AC  Wednesday  \n",
       " 44               AC  Wednesday  \n",
       " 47               AC  Wednesday  \n",
       " 95               AC   Thursday  \n",
       " ...             ...        ...  \n",
       " 7549             AC     Monday  \n",
       " 7558             AC     Monday  \n",
       " 7621             AC     Monday  \n",
       " 7627             AC     Monday  \n",
       " 7632             AC     Monday  \n",
       " \n",
       " [346 rows x 10 columns],\n",
       " charge_time         346\n",
       " country_code        346\n",
       " customer_id         346\n",
       " contract_id         346\n",
       " customer_type       346\n",
       " session_id          346\n",
       " session_duration    346\n",
       " power_usage         346\n",
       " charging_phase      346\n",
       " charge_day          346\n",
       " dtype: int64)"
      ]
     },
     "execution_count": 40,
     "metadata": {},
     "output_type": "execute_result"
    }
   ],
   "source": [
    "AC[AC['session_duration'] > 373.0],AC[AC['session_duration'] > 373.0].count()"
   ]
  },
  {
   "cell_type": "code",
   "execution_count": 41,
   "id": "b555a07c",
   "metadata": {},
   "outputs": [
    {
     "data": {
      "text/plain": [
       "(             charge_time country_code                       customer_id  \\\n",
       " 49   2020-01-01 19:22:43           CH  e55da6d27e8671d31f63266b9508d749   \n",
       " 153  2020-01-03 13:53:16           CH  89cc93edb310fe26b81e6e56003f33ff   \n",
       " 330  2020-01-05 16:24:45           CH  10c2b66d97dde3e04da35a6042edddd6   \n",
       " 601  2020-01-09 08:06:49           CH  ae10bb7c542bfe65d145621c514cf77c   \n",
       " 743  2020-01-10 16:51:19           CH  10c2b66d97dde3e04da35a6042edddd6   \n",
       " ...                  ...          ...                               ...   \n",
       " 6838 2020-03-29 12:23:30           CH  02778864181102e24f3e4a6c808e7b7a   \n",
       " 6866 2020-03-29 16:13:06           CH  ef482ef1710fbb4ddd2502353696689c   \n",
       " 7205 2020-04-02 13:08:12           CH  604b5d386ba726e7e2233a1619364eef   \n",
       " 7527 2020-04-05 15:58:54           CH  e0abd6e6385c00b0960a292aa8522351   \n",
       " 7559 2020-04-06 08:55:45           CH  02778864181102e24f3e4a6c808e7b7a   \n",
       " \n",
       "                            contract_id customer_type  \\\n",
       " 49    e05f518d51c3565179ebec1de2f44b68       PRIVATE   \n",
       " 153   f2d11c30a84055a67a2a272cc5519561       PRIVATE   \n",
       " 330   65eb05aaba24a7a659e7869e710c732e       PRIVATE   \n",
       " 601   27ba4e53876024f6ed8b84e124a3498c      BUSINESS   \n",
       " 743   65eb05aaba24a7a659e7869e710c732e       PRIVATE   \n",
       " ...                                ...           ...   \n",
       " 6838  e9f0ff41af12ca2c2956e3ba95259f45      BUSINESS   \n",
       " 6866  bdd4a3e6448107e7b20a0339de31faec       PRIVATE   \n",
       " 7205  794415214835b88144d308b5a0db4abc       PRIVATE   \n",
       " 7527  cc34c5109eca70b9accc98933f1e812c       PRIVATE   \n",
       " 7559  e9f0ff41af12ca2c2956e3ba95259f45      BUSINESS   \n",
       " \n",
       "                             session_id  session_duration  power_usage  \\\n",
       " 49    b02a7fa4958f98a0b951782838873365             101.0       23.500   \n",
       " 153   d2391b98ed6ae333c947054db9c49669              88.0       20.700   \n",
       " 330   85d0e2bb61616d601b84462da74097a5              90.0       32.962   \n",
       " 601   bdb69e35c9aa595502ed746237e6e589             130.0       25.893   \n",
       " 743   368b3e884acc393f40f6f6a66285b89d             110.0       29.790   \n",
       " ...                                ...               ...          ...   \n",
       " 6838  880f63a40e8b2a1e9bca49d83b310961             289.0        4.870   \n",
       " 6866  766d4993f1db3b938ed6d2e3ac221862            1043.0       38.590   \n",
       " 7205  790a5bc1325d622b8c8065b1f9a4631d              90.0       21.700   \n",
       " 7527  05a5668312abc1f328eb32dd7d691332             196.0       16.859   \n",
       " 7559  0715cbfb685e533ba60c5197dda5a8a3             540.0       34.439   \n",
       " \n",
       "      charging_phase charge_day  \n",
       " 49               DC  Wednesday  \n",
       " 153              DC     Friday  \n",
       " 330              DC     Sunday  \n",
       " 601              DC   Thursday  \n",
       " 743              DC     Friday  \n",
       " ...             ...        ...  \n",
       " 6838             DC     Sunday  \n",
       " 6866             DC     Sunday  \n",
       " 7205             DC   Thursday  \n",
       " 7527             DC     Sunday  \n",
       " 7559             DC     Monday  \n",
       " \n",
       " [74 rows x 10 columns],\n",
       " charge_time         74\n",
       " country_code        74\n",
       " customer_id         74\n",
       " contract_id         74\n",
       " customer_type       74\n",
       " session_id          74\n",
       " session_duration    74\n",
       " power_usage         74\n",
       " charging_phase      74\n",
       " charge_day          74\n",
       " dtype: int64)"
      ]
     },
     "execution_count": 41,
     "metadata": {},
     "output_type": "execute_result"
    }
   ],
   "source": [
    "DC[DC['session_duration'] > 87.5],DC[DC['session_duration'] > 87.5].count()"
   ]
  },
  {
   "cell_type": "code",
   "execution_count": 42,
   "id": "3d906185",
   "metadata": {},
   "outputs": [
    {
     "data": {
      "text/plain": [
       "(             charge_time country_code                       customer_id  \\\n",
       " 1185 2020-01-17 13:46:55           CH  5d2c27ae7617d2660bbdc0f22d141ab8   \n",
       " 2706 2020-02-09 14:29:43           CH  9b9055e152c018af7749e658904a0e35   \n",
       " 4431 2020-03-02 17:00:11           CH  de707582b4659b64e43a26894bc2dd33   \n",
       " \n",
       "                            contract_id customer_type  \\\n",
       " 1185  9cb411ce06bca5de4165990f0da5158d       PRIVATE   \n",
       " 2706  f8015996ae8d5cfddd2ee74f6697feb6       PRIVATE   \n",
       " 4431  3ccbea770fd7a3c0ed6bff1204117274       PRIVATE   \n",
       " \n",
       "                             session_id  session_duration  power_usage  \\\n",
       " 1185  8cd9f7db7bdb92524f374964a87465b1              55.0       17.424   \n",
       " 2706  c7a32f2f5b1d04494d28f41b4f764627              55.0       33.973   \n",
       " 4431  154623a81fd2b07e784e854bd54b14dd              67.0       32.058   \n",
       " \n",
       "      charging_phase charge_day  \n",
       " 1185            HPC     Friday  \n",
       " 2706            HPC     Sunday  \n",
       " 4431            HPC     Monday  ,\n",
       " charge_time         3\n",
       " country_code        3\n",
       " customer_id         3\n",
       " contract_id         3\n",
       " customer_type       3\n",
       " session_id          3\n",
       " session_duration    3\n",
       " power_usage         3\n",
       " charging_phase      3\n",
       " charge_day          3\n",
       " dtype: int64)"
      ]
     },
     "execution_count": 42,
     "metadata": {},
     "output_type": "execute_result"
    }
   ],
   "source": [
    "HPC[HPC['session_duration'] > 51],HPC[HPC['session_duration'] > 51].count()"
   ]
  },
  {
   "cell_type": "markdown",
   "id": "1b12d3bb",
   "metadata": {},
   "source": [
    "#### 4. Can you identify issues in the data that could result in an improvement of the product we offer to customers. How would you present the problem and the potential solution"
   ]
  },
  {
   "cell_type": "raw",
   "id": "cc7540d4",
   "metadata": {},
   "source": [
    "Idetentified few issues in data we analysed above:\n",
    "    1) 0 session durations \n",
    "    2) 0 power usage \n",
    "    3) one duplicate session if found \n",
    "    4) waiting time also need to be mentioned\n",
    "    5) Daily cap of the no. of customer can be predicted if we have battery capacity, 80% capacity utilisation can be calcuated\n",
    "    the notification can be sent to customer, once confirmed the prior booking for charging the stations, station manager can have estimated idea of customer visiting \n",
    "    the station and can manage availability\n",
    "    6) queing mechenism: customer should be providing waiting number in each nearest station with time availability and also recommed optimal choice.\n",
    "    "
   ]
  },
  {
   "cell_type": "markdown",
   "id": "65626f44",
   "metadata": {},
   "source": [
    "#### 5. Is there any additional data you would add to this raw data to give additional insights"
   ]
  },
  {
   "cell_type": "raw",
   "id": "60f519b1",
   "metadata": {},
   "source": [
    "There can be ample scope to add the data that can provide customer optimal choices of charging \n",
    "\n",
    "1) The vehical type and variant or the specification of vehicle, age of the vehicle\n",
    "2) Location of charging station(parking malls/office campus), latitude lognitude data\n",
    "3) L1,L2,L3 type of charging available of AC in stations/ charging capacity of station\n",
    "4) Transaction data of customer to understand the spend capability, RFM model can be created to target the priority 1 customer\n",
    "and send them notifications with offers\n",
    "5)charging station name/id, that would help to understand crowded station\n",
    "6) Charging cost for all charging phase at each station\n",
    "\n",
    "App data of customer(Incase provided solution on app):\n",
    "    1) login details\n",
    "    2)session details\n",
    "    3)active customers/dropped customers\n",
    "    4) customer location tracter"
   ]
  },
  {
   "cell_type": "raw",
   "id": "52880c19",
   "metadata": {},
   "source": []
  }
 ],
 "metadata": {
  "kernelspec": {
   "display_name": "Python 3 (ipykernel)",
   "language": "python",
   "name": "python3"
  },
  "language_info": {
   "codemirror_mode": {
    "name": "ipython",
    "version": 3
   },
   "file_extension": ".py",
   "mimetype": "text/x-python",
   "name": "python",
   "nbconvert_exporter": "python",
   "pygments_lexer": "ipython3",
   "version": "3.9.7"
  }
 },
 "nbformat": 4,
 "nbformat_minor": 5
}
